{
 "cells": [
  {
   "cell_type": "code",
   "execution_count": 17,
   "id": "1d1e08d9-2130-4b64-977d-18fb1e7f701e",
   "metadata": {},
   "outputs": [
    {
     "name": "stdin",
     "output_type": "stream",
     "text": [
      "Ingrese un número:  5\n"
     ]
    },
    {
     "name": "stdout",
     "output_type": "stream",
     "text": [
      "la relacion sin(ix) = isinh(x) es correcta.\n"
     ]
    }
   ],
   "source": [
    "#Considera la relación entre el seno de la variable compleja y el seno hiperbolico en la variable real x\n",
    "#sin(ix) = isinh(x)\n",
    "#verificar que la relacion sin(ix) = isinh(x) es correcta\n",
    "import random as rnd\n",
    "from cmath import sin, sinh\n",
    "x = complex(input('Ingrese un número: '))#rnd.randint(1,10)\n",
    "s = sin(x*1j)\n",
    "sh = 1j*sinh(x)\n",
    "if s == sh:\n",
    "    print('la relación sin(ix) = isinh(x) es correcta.')\n",
    "else:\n",
    "    print('error')    "
   ]
  },
  {
   "cell_type": "code",
   "execution_count": 27,
   "id": "2ee3a7b9-90de-47a3-b488-54c4fc456a20",
   "metadata": {},
   "outputs": [
    {
     "name": "stdin",
     "output_type": "stream",
     "text": [
      "Ingrese un número:  8\n"
     ]
    },
    {
     "name": "stdout",
     "output_type": "stream",
     "text": [
      "la relación es correcta\n",
      "e^ix es igual a:  (-0.14550003380861354+0.9893582466233818j)\n",
      "cos(x) + isin(x) es igual a: (-0.14550003380861354+0.9893582466233818j)\n"
     ]
    }
   ],
   "source": [
    "#Considera la relación de Euler para x real,\n",
    "#e^ix = cos(x) + isin(x) \n",
    "#Elaborar un programa que verifique dicha relación \n",
    "import random as rnd\n",
    "from cmath import sin, cos, e\n",
    "x = complex(input('Ingrese un número: '))#rnd.randint(1,10)\n",
    "cs = cos(x) + 1j*sin(x)\n",
    "ee = e**(1j*x) \n",
    "if ee == cs:\n",
    "    print('la relación es correcta')\n",
    "    print('e^ix es igual a: ',ee)\n",
    "    print('cos(x) + isin(x) es igual a:', cs)"
   ]
  },
  {
   "cell_type": "code",
   "execution_count": null,
   "id": "95d9d4fd-70b0-4a72-ba1a-ddd09e15c879",
   "metadata": {},
   "outputs": [],
   "source": []
  }
 ],
 "metadata": {
  "kernelspec": {
   "display_name": "Python 3 (ipykernel)",
   "language": "python",
   "name": "python3"
  },
  "language_info": {
   "codemirror_mode": {
    "name": "ipython",
    "version": 3
   },
   "file_extension": ".py",
   "mimetype": "text/x-python",
   "name": "python",
   "nbconvert_exporter": "python",
   "pygments_lexer": "ipython3",
   "version": "3.11.7"
  }
 },
 "nbformat": 4,
 "nbformat_minor": 5
}
